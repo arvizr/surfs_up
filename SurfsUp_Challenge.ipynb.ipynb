{
 "cells": [
  {
   "cell_type": "code",
   "execution_count": 1,
   "metadata": {},
   "outputs": [],
   "source": [
    "# Dependencies\n",
    "import numpy as np\n",
    "\n",
    "# Python SQL toolkit and Object Relational Mapper\n",
    "import sqlalchemy\n",
    "from sqlalchemy.ext.automap import automap_base\n",
    "from sqlalchemy.orm import Session\n",
    "from sqlalchemy import create_engine, func"
   ]
  },
  {
   "cell_type": "code",
   "execution_count": 2,
   "metadata": {},
   "outputs": [
    {
     "ename": "AttributeError",
     "evalue": "measurement",
     "output_type": "error",
     "traceback": [
      "\u001b[1;31m---------------------------------------------------------------------------\u001b[0m",
      "\u001b[1;31mKeyError\u001b[0m                                  Traceback (most recent call last)",
      "File \u001b[1;32mc:\\Users\\16262\\anaconda3\\lib\\site-packages\\sqlalchemy\\util\\_collections.py:186\u001b[0m, in \u001b[0;36mProperties.__getattr__\u001b[1;34m(self, key)\u001b[0m\n\u001b[0;32m    185\u001b[0m \u001b[39mtry\u001b[39;00m:\n\u001b[1;32m--> 186\u001b[0m     \u001b[39mreturn\u001b[39;00m \u001b[39mself\u001b[39;49m\u001b[39m.\u001b[39;49m_data[key]\n\u001b[0;32m    187\u001b[0m \u001b[39mexcept\u001b[39;00m \u001b[39mKeyError\u001b[39;00m:\n",
      "\u001b[1;31mKeyError\u001b[0m: 'measurement'",
      "\nDuring handling of the above exception, another exception occurred:\n",
      "\u001b[1;31mAttributeError\u001b[0m                            Traceback (most recent call last)",
      "\u001b[1;32mc:\\Users\\16262\\Desktop\\UofA-VIRT-DATA-PT-08-2022-U-B-main\\Modules\\Module 9\\SurfsUp_Challenge.ipynb.ipynb Cell 2\u001b[0m in \u001b[0;36m<cell line: 9>\u001b[1;34m()\u001b[0m\n\u001b[0;32m      <a href='vscode-notebook-cell:/c%3A/Users/16262/Desktop/UofA-VIRT-DATA-PT-08-2022-U-B-main/Modules/Module%209/SurfsUp_Challenge.ipynb.ipynb#W1sZmlsZQ%3D%3D?line=5'>6</a>\u001b[0m Base\u001b[39m.\u001b[39mprepare(engine, reflect\u001b[39m=\u001b[39m\u001b[39mTrue\u001b[39;00m)\n\u001b[0;32m      <a href='vscode-notebook-cell:/c%3A/Users/16262/Desktop/UofA-VIRT-DATA-PT-08-2022-U-B-main/Modules/Module%209/SurfsUp_Challenge.ipynb.ipynb#W1sZmlsZQ%3D%3D?line=7'>8</a>\u001b[0m \u001b[39m# Save references to each table\u001b[39;00m\n\u001b[1;32m----> <a href='vscode-notebook-cell:/c%3A/Users/16262/Desktop/UofA-VIRT-DATA-PT-08-2022-U-B-main/Modules/Module%209/SurfsUp_Challenge.ipynb.ipynb#W1sZmlsZQ%3D%3D?line=8'>9</a>\u001b[0m Measurement \u001b[39m=\u001b[39m Base\u001b[39m.\u001b[39;49mclasses\u001b[39m.\u001b[39;49mmeasurement\n\u001b[0;32m     <a href='vscode-notebook-cell:/c%3A/Users/16262/Desktop/UofA-VIRT-DATA-PT-08-2022-U-B-main/Modules/Module%209/SurfsUp_Challenge.ipynb.ipynb#W1sZmlsZQ%3D%3D?line=9'>10</a>\u001b[0m Station \u001b[39m=\u001b[39m Base\u001b[39m.\u001b[39mclasses\u001b[39m.\u001b[39mstation\n",
      "File \u001b[1;32mc:\\Users\\16262\\anaconda3\\lib\\site-packages\\sqlalchemy\\util\\_collections.py:188\u001b[0m, in \u001b[0;36mProperties.__getattr__\u001b[1;34m(self, key)\u001b[0m\n\u001b[0;32m    186\u001b[0m     \u001b[39mreturn\u001b[39;00m \u001b[39mself\u001b[39m\u001b[39m.\u001b[39m_data[key]\n\u001b[0;32m    187\u001b[0m \u001b[39mexcept\u001b[39;00m \u001b[39mKeyError\u001b[39;00m:\n\u001b[1;32m--> 188\u001b[0m     \u001b[39mraise\u001b[39;00m \u001b[39mAttributeError\u001b[39;00m(key)\n",
      "\u001b[1;31mAttributeError\u001b[0m: measurement"
     ]
    }
   ],
   "source": [
    "engine = create_engine(\"sqlite:///hawaii.sqlite\")\n",
    "\n",
    "# reflect an existing database into a new model\n",
    "Base = automap_base()\n",
    "# reflect the tables\n",
    "Base.prepare(engine, reflect=True)\n",
    "\n",
    "# Save references to each table\n",
    "Measurement = Base.classes.measurement\n",
    "Station = Base.classes.station"
   ]
  },
  {
   "cell_type": "code",
   "execution_count": null,
   "metadata": {},
   "outputs": [],
   "source": [
    "# Create our session (link) from Python to the DB\n",
    "session = Session(engine)"
   ]
  },
  {
   "cell_type": "markdown",
   "metadata": {},
   "source": [
    "## D1: Determine the Summary Statistics for June"
   ]
  },
  {
   "cell_type": "code",
   "execution_count": null,
   "metadata": {},
   "outputs": [],
   "source": [
    "# Import the sqlalchemy extract function.\n",
    "from sqlalchemy import extract\n",
    "\n",
    "# 1. Write a query that filters the Measurement table to retrieve the temperatures for the month of June. \n",
    "june_0 = dt.date(2010, 6, 1)\n",
    "july_0 = dt.date(2010, 7, 1)\n",
    "june_1 = dt.date(2011, 6, 1)\n",
    "july_1 = dt.date(2011, 7, 1)\n",
    "june_2 = dt.date(2012, 6, 1)\n",
    "july_2 = dt.date(2012, 7, 1)\n",
    "june_3 = dt.date(2013, 6, 1)\n",
    "july_3 = dt.date(2013, 7, 1)\n",
    "june_4 = dt.date(2014, 6, 1)\n",
    "july_4 = dt.date(2014, 7, 1)\n",
    "june_5 = dt.date(2015, 6, 1)\n",
    "july_5 = dt.date(2015, 7, 1)\n",
    "june_6 = dt.date(2016, 6, 1)\n",
    "july_6 = dt.date(2016, 7, 1)\n",
    "june_7 = dt.date(2017, 6, 1)\n",
    "july_7 = dt.date(2017, 7, 1)\n",
    "\n",
    "results = []\n",
    "results = session.query(Measurement.date, Measurement.tobs)\n",
    "results = session.query(Measurement.date, Measurement.tobs).\\\n",
    "filter((Measurement.date >= june_0) & (Measurement.date < july_0)|\n",
    "       (Measurement.date >= june_1) & (Measurement.date < july_1)|\n",
    "       (Measurement.date >= june_2) & (Measurement.date < july_2)|\n",
    "       (Measurement.date >= june_3) & (Measurement.date < july_3)|\n",
    "       (Measurement.date >= june_4) & (Measurement.date < july_4)|\n",
    "       (Measurement.date >= june_5) & (Measurement.date < july_5)|\n",
    "       (Measurement.date >= june_6) & (Measurement.date < july_6)|\n",
    "       (Measurement.date >= june_7) & (Measurement.date < july_7)).all()\n",
    "print(results)"
   ]
  },
  {
   "cell_type": "code",
   "execution_count": null,
   "metadata": {},
   "outputs": [],
   "source": [
    "# 2. Convert the June temperatures to a list.\n",
    "june_temp = list(results)\n",
    "print(june_temp)"
   ]
  },
  {
   "cell_type": "code",
   "execution_count": null,
   "metadata": {},
   "outputs": [],
   "source": [
    "# 3. Create a DataFrame from the list of temperatures for the month of June. \n",
    "june_temp_df = pd.DataFrame(results, columns=['date', 'June Temps'])\n",
    "june_temp_df = june_temp_df.set_index(june_temp_df['date'], inplace=False)\n",
    "print(june_temp_df)"
   ]
  },
  {
   "cell_type": "code",
   "execution_count": null,
   "metadata": {},
   "outputs": [],
   "source": [
    "# 4. Calculate and print out the summary statistics for the June temperature DataFrame.\n",
    "june_temp_df.describe()"
   ]
  },
  {
   "cell_type": "code",
   "execution_count": null,
   "metadata": {},
   "outputs": [],
   "source": [
    "# 5. Return to your challenge instructions to compare your summary statistics"
   ]
  },
  {
   "cell_type": "markdown",
   "metadata": {},
   "source": [
    "## D2: Determine the Summary Statistics for December"
   ]
  },
  {
   "cell_type": "code",
   "execution_count": null,
   "metadata": {},
   "outputs": [],
   "source": [
    "# 6. Write a query that filters the Measurement table to retrieve the temperatures for the month of December.\n",
    "dec_0 = dt.date(2010, 12, 1)\n",
    "jan_0 = dt.date(2011, 1, 1)\n",
    "dec_1 = dt.date(2011, 12, 1)\n",
    "jan_1 = dt.date(2012, 1, 1)\n",
    "dec_2 = dt.date(2012, 12, 1)\n",
    "jan_2 = dt.date(2013, 1, 1)\n",
    "dec_3 = dt.date(2013, 12, 1)\n",
    "jan_3 = dt.date(2014, 1, 1)\n",
    "dec_4 = dt.date(2014, 12, 1)\n",
    "jan_4 = dt.date(2015, 1, 1)\n",
    "dec_5 = dt.date(2015, 12, 1)\n",
    "jan_5 = dt.date(2016, 1, 1)\n",
    "dec_6 = dt.date(2016, 12, 1)\n",
    "jan_6 = dt.date(2017, 1, 1)\n",
    "dec_7 = dt.date(2017, 12, 1)\n",
    "\n",
    "results = []\n",
    "results = session.query(Measurement.date, Measurement.tobs)\n",
    "results = session.query(Measurement.date, Measurement.tobs).\\\n",
    "filter((Measurement.date >= dec_0) & (Measurement.date < jan_0)|\n",
    "       (Measurement.date >= dec_1) & (Measurement.date < jan_1)|\n",
    "       (Measurement.date >= dec_2) & (Measurement.date < jan_2)|\n",
    "       (Measurement.date >= dec_3) & (Measurement.date < jan_3)|\n",
    "       (Measurement.date >= dec_4) & (Measurement.date < jan_4)|\n",
    "       (Measurement.date >= dec_5) & (Measurement.date < jan_5)|\n",
    "       (Measurement.date >= dec_6) & (Measurement.date < jan_6)|\n",
    "       (Measurement.date >= dec_7)).all()\n",
    "print(results)"
   ]
  },
  {
   "cell_type": "code",
   "execution_count": null,
   "metadata": {},
   "outputs": [],
   "source": [
    "# 7. Convert the December temperatures to a list.\n",
    "dec_temp = list(results)\n",
    "print(dec_temp)"
   ]
  },
  {
   "cell_type": "code",
   "execution_count": null,
   "metadata": {},
   "outputs": [],
   "source": [
    "# 8. Create a DataFrame from the list of temperatures for the month of December. \n",
    "dec_temp_df = pd.DataFrame(results, columns=['date', 'December Temps'])\n",
    "dec_temp_df = dec_temp_df.set_index(dec_temp_df['date'], inplace=False)\n",
    "print(dec_temp_df)"
   ]
  },
  {
   "cell_type": "code",
   "execution_count": null,
   "metadata": {},
   "outputs": [],
   "source": [
    "# 9. Calculate and print out the summary statistics for the Decemeber temperature DataFrame.\n",
    "dec_temp_df.describe()"
   ]
  },
  {
   "cell_type": "code",
   "execution_count": null,
   "metadata": {},
   "outputs": [],
   "source": [
    "# 10. Return to your challenge instructions to compare your summary statistics"
   ]
  }
 ],
 "metadata": {
  "kernelspec": {
   "display_name": "base",
   "language": "python",
   "name": "python3"
  },
  "language_info": {
   "codemirror_mode": {
    "name": "ipython",
    "version": 3
   },
   "file_extension": ".py",
   "mimetype": "text/x-python",
   "name": "python",
   "nbconvert_exporter": "python",
   "pygments_lexer": "ipython3",
   "version": "3.9.12"
  },
  "vscode": {
   "interpreter": {
    "hash": "68f0ceea638690bd56e8927d37e612da7abbee4941996cc50c6a7535b34e0a6b"
   }
  }
 },
 "nbformat": 4,
 "nbformat_minor": 2
}
